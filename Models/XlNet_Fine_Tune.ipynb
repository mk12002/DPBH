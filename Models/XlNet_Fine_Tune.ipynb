{
 "cells": [
  {
   "cell_type": "code",
   "execution_count": 3,
   "id": "f6234900-7a7f-4e5f-b4d2-cb4e06d09300",
   "metadata": {},
   "outputs": [],
   "source": [
    "from transformers import XLNetModel, AutoTokenizer, pipeline, XLNetForSequenceClassification\n",
    "import pandas as pd\n",
    "from torch.utils.data import Dataset\n",
    "import torch\n",
    "from sklearn.preprocessing import LabelEncoder"
   ]
  },
  {
   "cell_type": "code",
   "execution_count": 25,
   "id": "de6ea82c-8330-46b3-9a33-a7b51eecdadc",
   "metadata": {},
   "outputs": [
    {
     "data": {
      "text/html": [
       "<div>\n",
       "<style scoped>\n",
       "    .dataframe tbody tr th:only-of-type {\n",
       "        vertical-align: middle;\n",
       "    }\n",
       "\n",
       "    .dataframe tbody tr th {\n",
       "        vertical-align: top;\n",
       "    }\n",
       "\n",
       "    .dataframe thead th {\n",
       "        text-align: right;\n",
       "    }\n",
       "</style>\n",
       "<table border=\"1\" class=\"dataframe\">\n",
       "  <thead>\n",
       "    <tr style=\"text-align: right;\">\n",
       "      <th></th>\n",
       "      <th>text</th>\n",
       "      <th>label</th>\n",
       "      <th>category</th>\n",
       "    </tr>\n",
       "  </thead>\n",
       "  <tbody>\n",
       "    <tr>\n",
       "      <th>0</th>\n",
       "      <td>FLASH SALE | LIMITED TIME ONLY Shop Now</td>\n",
       "      <td>1</td>\n",
       "      <td>Urgency</td>\n",
       "    </tr>\n",
       "    <tr>\n",
       "      <th>1</th>\n",
       "      <td>Pillowcases &amp; Shams</td>\n",
       "      <td>0</td>\n",
       "      <td>Not Dark Pattern</td>\n",
       "    </tr>\n",
       "    <tr>\n",
       "      <th>2</th>\n",
       "      <td>Write a review</td>\n",
       "      <td>0</td>\n",
       "      <td>Not Dark Pattern</td>\n",
       "    </tr>\n",
       "    <tr>\n",
       "      <th>3</th>\n",
       "      <td>To start your return, simply click on the foll...</td>\n",
       "      <td>0</td>\n",
       "      <td>Not Dark Pattern</td>\n",
       "    </tr>\n",
       "    <tr>\n",
       "      <th>4</th>\n",
       "      <td>newsletter signup (privacy policy)</td>\n",
       "      <td>0</td>\n",
       "      <td>Not Dark Pattern</td>\n",
       "    </tr>\n",
       "  </tbody>\n",
       "</table>\n",
       "</div>"
      ],
      "text/plain": [
       "                                                text label          category\n",
       "0            FLASH SALE | LIMITED TIME ONLY Shop Now     1           Urgency\n",
       "1                                Pillowcases & Shams     0  Not Dark Pattern\n",
       "2                                     Write a review     0  Not Dark Pattern\n",
       "3  To start your return, simply click on the foll...     0  Not Dark Pattern\n",
       "4                newsletter signup (privacy policy)      0  Not Dark Pattern"
      ]
     },
     "execution_count": 25,
     "metadata": {},
     "output_type": "execute_result"
    }
   ],
   "source": [
    "df = pd.read_csv(\"cleaned_file.csv\")\n",
    "df.head()"
   ]
  },
  {
   "cell_type": "code",
   "execution_count": 26,
   "id": "adcc4cda-e0d9-4c52-b621-bd3875c6c33b",
   "metadata": {
    "scrolled": true
   },
   "outputs": [],
   "source": [
    "df.drop(\"label\", axis=1, inplace=True)"
   ]
  },
  {
   "cell_type": "code",
   "execution_count": 27,
   "id": "78cfeb33-ab18-49e7-8c9c-e11e0e1af298",
   "metadata": {},
   "outputs": [
    {
     "data": {
      "text/html": [
       "<div>\n",
       "<style scoped>\n",
       "    .dataframe tbody tr th:only-of-type {\n",
       "        vertical-align: middle;\n",
       "    }\n",
       "\n",
       "    .dataframe tbody tr th {\n",
       "        vertical-align: top;\n",
       "    }\n",
       "\n",
       "    .dataframe thead th {\n",
       "        text-align: right;\n",
       "    }\n",
       "</style>\n",
       "<table border=\"1\" class=\"dataframe\">\n",
       "  <thead>\n",
       "    <tr style=\"text-align: right;\">\n",
       "      <th></th>\n",
       "      <th>text</th>\n",
       "      <th>category</th>\n",
       "    </tr>\n",
       "  </thead>\n",
       "  <tbody>\n",
       "    <tr>\n",
       "      <th>0</th>\n",
       "      <td>FLASH SALE | LIMITED TIME ONLY Shop Now</td>\n",
       "      <td>Urgency</td>\n",
       "    </tr>\n",
       "    <tr>\n",
       "      <th>1</th>\n",
       "      <td>Pillowcases &amp; Shams</td>\n",
       "      <td>Not Dark Pattern</td>\n",
       "    </tr>\n",
       "    <tr>\n",
       "      <th>2</th>\n",
       "      <td>Write a review</td>\n",
       "      <td>Not Dark Pattern</td>\n",
       "    </tr>\n",
       "    <tr>\n",
       "      <th>3</th>\n",
       "      <td>To start your return, simply click on the foll...</td>\n",
       "      <td>Not Dark Pattern</td>\n",
       "    </tr>\n",
       "    <tr>\n",
       "      <th>4</th>\n",
       "      <td>newsletter signup (privacy policy)</td>\n",
       "      <td>Not Dark Pattern</td>\n",
       "    </tr>\n",
       "  </tbody>\n",
       "</table>\n",
       "</div>"
      ],
      "text/plain": [
       "                                                text          category\n",
       "0            FLASH SALE | LIMITED TIME ONLY Shop Now           Urgency\n",
       "1                                Pillowcases & Shams  Not Dark Pattern\n",
       "2                                     Write a review  Not Dark Pattern\n",
       "3  To start your return, simply click on the foll...  Not Dark Pattern\n",
       "4                newsletter signup (privacy policy)   Not Dark Pattern"
      ]
     },
     "execution_count": 27,
     "metadata": {},
     "output_type": "execute_result"
    }
   ],
   "source": [
    "df.head()"
   ]
  },
  {
   "cell_type": "code",
   "execution_count": 28,
   "id": "0bf0e8c7-b52f-4cad-bdae-465ae2c13b85",
   "metadata": {},
   "outputs": [
    {
     "data": {
      "text/plain": [
       "['Urgency',\n",
       " 'Not Dark Pattern',\n",
       " 'Scarcity',\n",
       " 'Misdirection',\n",
       " 'Social Proof',\n",
       " 'Obstruction',\n",
       " 'Sneaking',\n",
       " 'Forced Action']"
      ]
     },
     "execution_count": 28,
     "metadata": {},
     "output_type": "execute_result"
    }
   ],
   "source": [
    "fine = df['category'].unique().tolist()\n",
    "fine = [s.strip() for s in fine]\n",
    "fine"
   ]
  },
  {
   "cell_type": "code",
   "execution_count": 29,
   "id": "936fed07-7d5e-4828-9f8c-4458a2c3cbdc",
   "metadata": {},
   "outputs": [],
   "source": [
    "num_fine = len(fine)\n",
    "id2fine = {id:fine for id, fine in enumerate(fine)}\n",
    "fine2id = {fine:id for id, fine in enumerate(fine)}"
   ]
  },
  {
   "cell_type": "code",
   "execution_count": 30,
   "id": "61b6ff83-5029-46e1-8055-09c831e9d3e3",
   "metadata": {},
   "outputs": [
    {
     "data": {
      "text/plain": [
       "{0: 'Urgency',\n",
       " 1: 'Not Dark Pattern',\n",
       " 2: 'Scarcity',\n",
       " 3: 'Misdirection',\n",
       " 4: 'Social Proof',\n",
       " 5: 'Obstruction',\n",
       " 6: 'Sneaking',\n",
       " 7: 'Forced Action'}"
      ]
     },
     "execution_count": 30,
     "metadata": {},
     "output_type": "execute_result"
    }
   ],
   "source": [
    "id2fine"
   ]
  },
  {
   "cell_type": "code",
   "execution_count": 31,
   "id": "268dc366-1f8e-4cef-be85-e9b005ffdb79",
   "metadata": {},
   "outputs": [
    {
     "data": {
      "text/plain": [
       "{'Urgency': 0,\n",
       " 'Not Dark Pattern': 1,\n",
       " 'Scarcity': 2,\n",
       " 'Misdirection': 3,\n",
       " 'Social Proof': 4,\n",
       " 'Obstruction': 5,\n",
       " 'Sneaking': 6,\n",
       " 'Forced Action': 7}"
      ]
     },
     "execution_count": 31,
     "metadata": {},
     "output_type": "execute_result"
    }
   ],
   "source": [
    "fine2id"
   ]
  },
  {
   "cell_type": "code",
   "execution_count": 32,
   "id": "d643ae93-3f4f-491e-8116-080580020902",
   "metadata": {},
   "outputs": [
    {
     "data": {
      "text/html": [
       "<div>\n",
       "<style scoped>\n",
       "    .dataframe tbody tr th:only-of-type {\n",
       "        vertical-align: middle;\n",
       "    }\n",
       "\n",
       "    .dataframe tbody tr th {\n",
       "        vertical-align: top;\n",
       "    }\n",
       "\n",
       "    .dataframe thead th {\n",
       "        text-align: right;\n",
       "    }\n",
       "</style>\n",
       "<table border=\"1\" class=\"dataframe\">\n",
       "  <thead>\n",
       "    <tr style=\"text-align: right;\">\n",
       "      <th></th>\n",
       "      <th>text</th>\n",
       "      <th>category</th>\n",
       "      <th>labels</th>\n",
       "    </tr>\n",
       "  </thead>\n",
       "  <tbody>\n",
       "    <tr>\n",
       "      <th>0</th>\n",
       "      <td>FLASH SALE | LIMITED TIME ONLY Shop Now</td>\n",
       "      <td>Urgency</td>\n",
       "      <td>0</td>\n",
       "    </tr>\n",
       "    <tr>\n",
       "      <th>1</th>\n",
       "      <td>Pillowcases &amp; Shams</td>\n",
       "      <td>Not Dark Pattern</td>\n",
       "      <td>1</td>\n",
       "    </tr>\n",
       "    <tr>\n",
       "      <th>2</th>\n",
       "      <td>Write a review</td>\n",
       "      <td>Not Dark Pattern</td>\n",
       "      <td>1</td>\n",
       "    </tr>\n",
       "    <tr>\n",
       "      <th>3</th>\n",
       "      <td>To start your return, simply click on the foll...</td>\n",
       "      <td>Not Dark Pattern</td>\n",
       "      <td>1</td>\n",
       "    </tr>\n",
       "    <tr>\n",
       "      <th>4</th>\n",
       "      <td>newsletter signup (privacy policy)</td>\n",
       "      <td>Not Dark Pattern</td>\n",
       "      <td>1</td>\n",
       "    </tr>\n",
       "    <tr>\n",
       "      <th>...</th>\n",
       "      <td>...</td>\n",
       "      <td>...</td>\n",
       "      <td>...</td>\n",
       "    </tr>\n",
       "    <tr>\n",
       "      <th>3863</th>\n",
       "      <td>TWO FREE PILLOWS AND 30% OFF WITH PROMO CODE</td>\n",
       "      <td>Misdirection</td>\n",
       "      <td>3</td>\n",
       "    </tr>\n",
       "    <tr>\n",
       "      <th>3864</th>\n",
       "      <td>Compare at</td>\n",
       "      <td>Misdirection</td>\n",
       "      <td>3</td>\n",
       "    </tr>\n",
       "    <tr>\n",
       "      <th>3865</th>\n",
       "      <td>$132.90 $99.00</td>\n",
       "      <td>Misdirection</td>\n",
       "      <td>3</td>\n",
       "    </tr>\n",
       "    <tr>\n",
       "      <th>3866</th>\n",
       "      <td>This offer is only VALID if you add to cart now!</td>\n",
       "      <td>Misdirection</td>\n",
       "      <td>3</td>\n",
       "    </tr>\n",
       "    <tr>\n",
       "      <th>3867</th>\n",
       "      <td>Save $148.98AUD â€“ 49% Off</td>\n",
       "      <td>Misdirection</td>\n",
       "      <td>3</td>\n",
       "    </tr>\n",
       "  </tbody>\n",
       "</table>\n",
       "<p>3868 rows × 3 columns</p>\n",
       "</div>"
      ],
      "text/plain": [
       "                                                   text          category  \\\n",
       "0               FLASH SALE | LIMITED TIME ONLY Shop Now           Urgency   \n",
       "1                                   Pillowcases & Shams  Not Dark Pattern   \n",
       "2                                        Write a review  Not Dark Pattern   \n",
       "3     To start your return, simply click on the foll...  Not Dark Pattern   \n",
       "4                   newsletter signup (privacy policy)   Not Dark Pattern   \n",
       "...                                                 ...               ...   \n",
       "3863       TWO FREE PILLOWS AND 30% OFF WITH PROMO CODE      Misdirection   \n",
       "3864                                         Compare at      Misdirection   \n",
       "3865                                     $132.90 $99.00      Misdirection   \n",
       "3866   This offer is only VALID if you add to cart now!      Misdirection   \n",
       "3867                        Save $148.98AUD â€“ 49% Off      Misdirection   \n",
       "\n",
       "      labels  \n",
       "0          0  \n",
       "1          1  \n",
       "2          1  \n",
       "3          1  \n",
       "4          1  \n",
       "...      ...  \n",
       "3863       3  \n",
       "3864       3  \n",
       "3865       3  \n",
       "3866       3  \n",
       "3867       3  \n",
       "\n",
       "[3868 rows x 3 columns]"
      ]
     },
     "execution_count": 32,
     "metadata": {},
     "output_type": "execute_result"
    }
   ],
   "source": [
    "df['labels'] = df.category.map(lambda x: fine2id[x.strip()])\n",
    "df"
   ]
  },
  {
   "cell_type": "code",
   "execution_count": 33,
   "id": "8cf4560a-2c12-4dfd-aced-31decdd7586e",
   "metadata": {},
   "outputs": [
    {
     "data": {
      "text/plain": [
       "<Axes: ylabel='count'>"
      ]
     },
     "execution_count": 33,
     "metadata": {},
     "output_type": "execute_result"
    },
    {
     "data": {
      "image/png": "[encoded data removed]",
      "text/plain": [
       "<Figure size 800x800 with 1 Axes>"
      ]
     },
     "metadata": {},
     "output_type": "display_data"
    }
   ],
   "source": [
    "df.category.value_counts().plot(kind=\"pie\", figsize=(8,8))"
   ]
  },
  {
   "cell_type": "code",
   "execution_count": 34,
   "id": "e5b0d32d-dddd-48fc-a210-1ac44d05289a",
   "metadata": {},
   "outputs": [],
   "source": [
    "tokenizer = AutoTokenizer.from_pretrained(\"xlnet-base-cased\")"
   ]
  },
  {
   "cell_type": "code",
   "execution_count": 35,
   "id": "60786b6d-f832-4f0e-b74e-48d037253d3a",
   "metadata": {},
   "outputs": [
    {
     "name": "stderr",
     "output_type": "stream",
     "text": [
      "Some weights of XLNetForSequenceClassification were not initialized from the model checkpoint at xlnet-base-cased and are newly initialized: ['logits_proj.weight', 'sequence_summary.summary.bias', 'logits_proj.bias', 'sequence_summary.summary.weight']\n",
      "You should probably TRAIN this model on a down-stream task to be able to use it for predictions and inference.\n"
     ]
    },
    {
     "data": {
      "text/plain": [
       "XLNetForSequenceClassification(\n",
       "  (transformer): XLNetModel(\n",
       "    (word_embedding): Embedding(32000, 768)\n",
       "    (layer): ModuleList(\n",
       "      (0-11): 12 x XLNetLayer(\n",
       "        (rel_attn): XLNetRelativeAttention(\n",
       "          (layer_norm): LayerNorm((768,), eps=1e-12, elementwise_affine=True)\n",
       "          (dropout): Dropout(p=0.1, inplace=False)\n",
       "        )\n",
       "        (ff): XLNetFeedForward(\n",
       "          (layer_norm): LayerNorm((768,), eps=1e-12, elementwise_affine=True)\n",
       "          (layer_1): Linear(in_features=768, out_features=3072, bias=True)\n",
       "          (layer_2): Linear(in_features=3072, out_features=768, bias=True)\n",
       "          (dropout): Dropout(p=0.1, inplace=False)\n",
       "          (activation_function): GELUActivation()\n",
       "        )\n",
       "        (dropout): Dropout(p=0.1, inplace=False)\n",
       "      )\n",
       "    )\n",
       "    (dropout): Dropout(p=0.1, inplace=False)\n",
       "  )\n",
       "  (sequence_summary): SequenceSummary(\n",
       "    (summary): Linear(in_features=768, out_features=768, bias=True)\n",
       "    (activation): Tanh()\n",
       "    (first_dropout): Identity()\n",
       "    (last_dropout): Dropout(p=0.1, inplace=False)\n",
       "  )\n",
       "  (logits_proj): Linear(in_features=768, out_features=8, bias=True)\n",
       ")"
      ]
     },
     "execution_count": 35,
     "metadata": {},
     "output_type": "execute_result"
    }
   ],
   "source": [
    "model = XLNetForSequenceClassification.from_pretrained(\"xlnet-base-cased\", num_labels=num_fine, id2label=id2fine, label2id=fine2id)\n",
    "\n",
    "device = torch.device(\"cuda:0\" if torch.cuda.is_available() else \"cpu\")\n",
    "model.to(device)"
   ]
  },
  {
   "cell_type": "code",
   "execution_count": 36,
   "id": "e804fe56-fac2-4159-816f-fdef74017226",
   "metadata": {},
   "outputs": [],
   "source": [
    "SIZE = df.shape[0]\n",
    "train_texts = list(df.text[:SIZE//2])\n",
    "val_texts = list(df.text[SIZE//2:(3*SIZE)//4])\n",
    "test_texts = list(df.text[(3*SIZE)//4:])\n",
    "train_labels = list(df.labels[:SIZE//2])\n",
    "val_labels = list(df.labels[SIZE//2:(3*SIZE)//4])\n",
    "test_labels = list(df.labels[(3*SIZE)//4:])"
   ]
  },
  {
   "cell_type": "code",
   "execution_count": 37,
   "id": "74ddb62f-1358-46f6-859b-489723c258a8",
   "metadata": {},
   "outputs": [
    {
     "data": {
      "text/plain": [
       "(1934, 967, 967)"
      ]
     },
     "execution_count": 37,
     "metadata": {},
     "output_type": "execute_result"
    }
   ],
   "source": [
    "len(train_texts), len(val_texts), len(test_texts)"
   ]
  },
  {
   "cell_type": "code",
   "execution_count": 38,
   "id": "d9c54fde-d74d-49c9-b840-26cb6fc8dbaf",
   "metadata": {},
   "outputs": [
    {
     "name": "stderr",
     "output_type": "stream",
     "text": [
      "Asking to truncate to max_length but no maximum length is provided and the model has no predefined maximum length. Default to no truncation.\n"
     ]
    }
   ],
   "source": [
    "train_encodings = tokenizer(train_texts, truncation=True, padding=True)\n",
    "val_encodings = tokenizer(val_texts, truncation=True, padding=True)\n",
    "test_encodings = tokenizer(test_texts, truncation=True, padding=True)"
   ]
  },
  {
   "cell_type": "code",
   "execution_count": 39,
   "id": "5cd85d78-f2f2-4b54-a7ba-ec84ad78e68f",
   "metadata": {},
   "outputs": [],
   "source": [
    "class Dataloader(Dataset):\n",
    "    def __init__(self, encodings, labels):\n",
    "        self.encodings = encodings\n",
    "        self.labels = labels\n",
    "\n",
    "    def __getitem__(self, idx):\n",
    "        item = {key: torch.tensor(val[idx]) for key, val in self.encodings.items()}\n",
    "        item['labels'] = torch.tensor(self.labels[idx])\n",
    "        return item\n",
    "\n",
    "    def __len__(self):\n",
    "        return len(self.labels)"
   ]
  },
  {
   "cell_type": "code",
   "execution_count": 40,
   "id": "788fdc3d-c5f7-4831-b357-c67af8fe409d",
   "metadata": {},
   "outputs": [],
   "source": [
    "train_dataloader = Dataloader(train_encodings, train_labels)\n",
    "val_dataloader = Dataloader(val_encodings, val_labels)\n",
    "test_dataloader = Dataloader(test_encodings, test_labels)"
   ]
  },
  {
   "cell_type": "code",
   "execution_count": 41,
   "id": "b8e73e2c-367b-4148-960f-35088870339f",
   "metadata": {},
   "outputs": [],
   "source": [
    "from transformers import TrainingArguments, Trainer"
   ]
  },
  {
   "cell_type": "code",
   "execution_count": 42,
   "id": "a0a39d98-32d8-47f9-a726-0d39287f7716",
   "metadata": {},
   "outputs": [],
   "source": [
    "from sklearn.metrics import accuracy_score, precision_recall_fscore_support\n",
    "\n",
    "def compute_metrics(pred):\n",
    "    labels = pred.label_ids\n",
    "\n",
    "    # Obtain predicted class labels by finding the column index with the maximum probability\n",
    "    preds = pred.predictions.argmax(-1)\n",
    "\n",
    "    # Compute macro precision, recall, and F1 score using sklearn's precision_recall_fscore_support function\n",
    "    precision, recall, f1, _ = precision_recall_fscore_support(labels, preds, average='macro')\n",
    "\n",
    "    # Calculate the accuracy score using sklearn's accuracy_score function\n",
    "    acc = accuracy_score(labels, preds)\n",
    "\n",
    "    # Return the computed metrics as a dictionary\n",
    "    return {\n",
    "        'Accuracy': acc,\n",
    "        'F1': f1,\n",
    "        'Precision': precision,\n",
    "        'Recall': recall\n",
    "    }"
   ]
  },
  {
   "cell_type": "code",
   "execution_count": 43,
   "id": "1d10a2a3-1941-4acf-992a-c8997709bf7f",
   "metadata": {},
   "outputs": [
    {
     "name": "stdout",
     "output_type": "stream",
     "text": [
      "Requirement already satisfied: transformers[torch] in c:\\python311\\lib\\site-packages (4.36.2)\n",
      "Requirement already satisfied: filelock in c:\\python311\\lib\\site-packages (from transformers[torch]) (3.13.1)\n",
      "Requirement already satisfied: huggingface-hub<1.0,>=0.19.3 in c:\\python311\\lib\\site-packages (from transformers[torch]) (0.20.2)\n",
      "Requirement already satisfied: numpy>=1.17 in c:\\python311\\lib\\site-packages (from transformers[torch]) (1.24.3)\n",
      "Requirement already satisfied: packaging>=20.0 in c:\\python311\\lib\\site-packages (from transformers[torch]) (23.1)\n",
      "Requirement already satisfied: pyyaml>=5.1 in c:\\python311\\lib\\site-packages (from transformers[torch]) (6.0.1)\n",
      "Requirement already satisfied: regex!=2019.12.17 in c:\\python311\\lib\\site-packages (from transformers[torch]) (2023.12.25)\n",
      "Requirement already satisfied: requests in c:\\python311\\lib\\site-packages (from transformers[torch]) (2.31.0)\n",
      "Requirement already satisfied: tokenizers<0.19,>=0.14 in c:\\python311\\lib\\site-packages (from transformers[torch]) (0.15.0)\n",
      "Requirement already satisfied: safetensors>=0.3.1 in c:\\python311\\lib\\site-packages (from transformers[torch]) (0.4.1)\n",
      "Requirement already satisfied: tqdm>=4.27 in c:\\python311\\lib\\site-packages (from transformers[torch]) (4.66.1)\n",
      "Requirement already satisfied: torch!=1.12.0,>=1.10 in c:\\python311\\lib\\site-packages (from transformers[torch]) (2.1.2)\n",
      "Requirement already satisfied: accelerate>=0.21.0 in c:\\python311\\lib\\site-packages (from transformers[torch]) (0.26.1)\n",
      "Requirement already satisfied: psutil in c:\\python311\\lib\\site-packages (from accelerate>=0.21.0->transformers[torch]) (5.9.7)\n",
      "Requirement already satisfied: fsspec>=2023.5.0 in c:\\python311\\lib\\site-packages (from huggingface-hub<1.0,>=0.19.3->transformers[torch]) (2023.12.2)\n",
      "Requirement already satisfied: typing-extensions>=3.7.4.3 in c:\\python311\\lib\\site-packages (from huggingface-hub<1.0,>=0.19.3->transformers[torch]) (4.8.0)\n",
      "Requirement already satisfied: sympy in c:\\python311\\lib\\site-packages (from torch!=1.12.0,>=1.10->transformers[torch]) (1.12)\n",
      "Requirement already satisfied: networkx in c:\\python311\\lib\\site-packages (from torch!=1.12.0,>=1.10->transformers[torch]) (3.2.1)\n",
      "Requirement already satisfied: jinja2 in c:\\python311\\lib\\site-packages (from torch!=1.12.0,>=1.10->transformers[torch]) (3.1.3)\n",
      "Requirement already satisfied: colorama in c:\\python311\\lib\\site-packages (from tqdm>=4.27->transformers[torch]) (0.4.6)\n",
      "Requirement already satisfied: charset-normalizer<4,>=2 in c:\\python311\\lib\\site-packages (from requests->transformers[torch]) (3.2.0)\n",
      "Requirement already satisfied: idna<4,>=2.5 in c:\\python311\\lib\\site-packages (from requests->transformers[torch]) (3.4)\n",
      "Requirement already satisfied: urllib3<3,>=1.21.1 in c:\\python311\\lib\\site-packages (from requests->transformers[torch]) (1.26.16)\n",
      "Requirement already satisfied: certifi>=2017.4.17 in c:\\python311\\lib\\site-packages (from requests->transformers[torch]) (2023.7.22)\n",
      "Requirement already satisfied: MarkupSafe>=2.0 in c:\\python311\\lib\\site-packages (from jinja2->torch!=1.12.0,>=1.10->transformers[torch]) (2.1.3)\n",
      "Requirement already satisfied: mpmath>=0.19 in c:\\python311\\lib\\site-packages (from sympy->torch!=1.12.0,>=1.10->transformers[torch]) (1.3.0)\n"
     ]
    },
    {
     "name": "stderr",
     "output_type": "stream",
     "text": [
      "ERROR: Invalid requirement: 'accelerate\\xa0-U'\n"
     ]
    }
   ],
   "source": [
    "!pip install transformers[torch] -U\n",
    "!pip install accelerate -U\n"
   ]
  },
  {
   "cell_type": "code",
   "execution_count": 47,
   "id": "5e193672-2d5c-4dfd-8f31-14ed7ac0888f",
   "metadata": {},
   "outputs": [],
   "source": [
    "training_args = TrainingArguments(\n",
    "    output_dir=\"./XlBERTModel\",\n",
    "    do_train=True,\n",
    "    do_eval=True,\n",
    "\n",
    "    num_train_epochs=3,\n",
    "    per_device_train_batch_size=16,\n",
    "    per_device_eval_batch_size=32,\n",
    "\n",
    "    warmup_steps=100,\n",
    "    weight_decay=0.01,\n",
    "    logging_strategy=\"steps\",\n",
    "\n",
    "    logging_dir=\"./multi-class-logs\",\n",
    "    logging_steps=50,\n",
    "    evaluation_strategy=\"steps\",\n",
    "    eval_steps=50,\n",
    "    save_strategy=\"steps\",\n",
    "    fp16=False,\n",
    "    load_best_model_at_end=True,\n",
    ")\n"
   ]
  },
  {
   "cell_type": "code",
   "execution_count": 48,
   "id": "80d74e68-a3f0-4e86-9da0-ff34d8119add",
   "metadata": {},
   "outputs": [],
   "source": [
    "trainer = Trainer(\n",
    "    # the pre-trained model that will be fine-tuned\n",
    "    model=model,\n",
    "\n",
    "    # training arguments that we defined above\n",
    "    args=training_args,\n",
    "    train_dataset=train_dataloader,\n",
    "    eval_dataset=val_dataloader,\n",
    "    compute_metrics=compute_metrics\n",
    ")\n"
   ]
  },
  {
   "cell_type": "code",
   "execution_count": 49,
   "id": "39d3f13d-4da3-4732-b123-f09456b5521b",
   "metadata": {},
   "outputs": [
    {
     "data": {
      "text/html": [
       "\n",
       "    <div>\n",
       "      \n",
       "      <progress value='363' max='363' style='width:300px; height:20px; vertical-align: middle;'></progress>\n",
       "      [363/363 4:41:19, Epoch 3/3]\n",
       "    </div>\n",
       "    <table border=\"1\" class=\"dataframe\">\n",
       "  <thead>\n",
       " <tr style=\"text-align: left;\">\n",
       "      <th>Step</th>\n",
       "      <th>Training Loss</th>\n",
       "      <th>Validation Loss</th>\n",
       "      <th>Accuracy</th>\n",
       "      <th>F1</th>\n",
       "      <th>Precision</th>\n",
       "      <th>Recall</th>\n",
       "    </tr>\n",
       "  </thead>\n",
       "  <tbody>\n",
       "    <tr>\n",
       "      <td>50</td>\n",
       "      <td>1.679400</td>\n",
       "      <td>1.443377</td>\n",
       "      <td>0.264736</td>\n",
       "      <td>0.125178</td>\n",
       "      <td>0.263524</td>\n",
       "      <td>0.180177</td>\n",
       "    </tr>\n",
       "    <tr>\n",
       "      <td>100</td>\n",
       "      <td>0.726900</td>\n",
       "      <td>0.222247</td>\n",
       "      <td>0.952430</td>\n",
       "      <td>0.690611</td>\n",
       "      <td>0.705301</td>\n",
       "      <td>0.682811</td>\n",
       "    </tr>\n",
       "    <tr>\n",
       "      <td>150</td>\n",
       "      <td>0.277000</td>\n",
       "      <td>0.201904</td>\n",
       "      <td>0.944157</td>\n",
       "      <td>0.687070</td>\n",
       "      <td>0.701199</td>\n",
       "      <td>0.680426</td>\n",
       "    </tr>\n",
       "    <tr>\n",
       "      <td>200</td>\n",
       "      <td>0.263800</td>\n",
       "      <td>0.170898</td>\n",
       "      <td>0.961737</td>\n",
       "      <td>0.677052</td>\n",
       "      <td>0.728570</td>\n",
       "      <td>0.654530</td>\n",
       "    </tr>\n",
       "    <tr>\n",
       "      <td>250</td>\n",
       "      <td>0.225900</td>\n",
       "      <td>0.129024</td>\n",
       "      <td>0.972079</td>\n",
       "      <td>0.715126</td>\n",
       "      <td>0.717157</td>\n",
       "      <td>0.713392</td>\n",
       "    </tr>\n",
       "    <tr>\n",
       "      <td>300</td>\n",
       "      <td>0.093100</td>\n",
       "      <td>0.154001</td>\n",
       "      <td>0.972079</td>\n",
       "      <td>0.712873</td>\n",
       "      <td>0.713808</td>\n",
       "      <td>0.712162</td>\n",
       "    </tr>\n",
       "    <tr>\n",
       "      <td>350</td>\n",
       "      <td>0.112600</td>\n",
       "      <td>0.143690</td>\n",
       "      <td>0.975181</td>\n",
       "      <td>0.716266</td>\n",
       "      <td>0.714968</td>\n",
       "      <td>0.717606</td>\n",
       "    </tr>\n",
       "  </tbody>\n",
       "</table><p>"
      ],
      "text/plain": [
       "<IPython.core.display.HTML object>"
      ]
     },
     "metadata": {},
     "output_type": "display_data"
    },
    {
     "name": "stderr",
     "output_type": "stream",
     "text": [
      "C:\\Python311\\Lib\\site-packages\\sklearn\\metrics\\_classification.py:1469: UndefinedMetricWarning: Precision and F-score are ill-defined and being set to 0.0 in labels with no predicted samples. Use `zero_division` parameter to control this behavior.\n",
      "  _warn_prf(average, modifier, msg_start, len(result))\n",
      "C:\\Python311\\Lib\\site-packages\\sklearn\\metrics\\_classification.py:1469: UndefinedMetricWarning: Precision and F-score are ill-defined and being set to 0.0 in labels with no predicted samples. Use `zero_division` parameter to control this behavior.\n",
      "  _warn_prf(average, modifier, msg_start, len(result))\n",
      "C:\\Python311\\Lib\\site-packages\\sklearn\\metrics\\_classification.py:1469: UndefinedMetricWarning: Precision and F-score are ill-defined and being set to 0.0 in labels with no predicted samples. Use `zero_division` parameter to control this behavior.\n",
      "  _warn_prf(average, modifier, msg_start, len(result))\n",
      "C:\\Python311\\Lib\\site-packages\\sklearn\\metrics\\_classification.py:1469: UndefinedMetricWarning: Precision and F-score are ill-defined and being set to 0.0 in labels with no predicted samples. Use `zero_division` parameter to control this behavior.\n",
      "  _warn_prf(average, modifier, msg_start, len(result))\n",
      "C:\\Python311\\Lib\\site-packages\\sklearn\\metrics\\_classification.py:1469: UndefinedMetricWarning: Precision and F-score are ill-defined and being set to 0.0 in labels with no predicted samples. Use `zero_division` parameter to control this behavior.\n",
      "  _warn_prf(average, modifier, msg_start, len(result))\n",
      "C:\\Python311\\Lib\\site-packages\\sklearn\\metrics\\_classification.py:1469: UndefinedMetricWarning: Precision and F-score are ill-defined and being set to 0.0 in labels with no predicted samples. Use `zero_division` parameter to control this behavior.\n",
      "  _warn_prf(average, modifier, msg_start, len(result))\n",
      "C:\\Python311\\Lib\\site-packages\\sklearn\\metrics\\_classification.py:1469: UndefinedMetricWarning: Precision and F-score are ill-defined and being set to 0.0 in labels with no predicted samples. Use `zero_division` parameter to control this behavior.\n",
      "  _warn_prf(average, modifier, msg_start, len(result))\n"
     ]
    },
    {
     "data": {
      "text/plain": [
       "TrainOutput(global_step=363, training_loss=0.4701557740692265, metrics={'train_runtime': 16929.3283, 'train_samples_per_second': 0.343, 'train_steps_per_second': 0.021, 'total_flos': 774823884710400.0, 'train_loss': 0.4701557740692265, 'epoch': 3.0})"
      ]
     },
     "execution_count": 49,
     "metadata": {},
     "output_type": "execute_result"
    }
   ],
   "source": [
    "trainer.train()"
   ]
  },
  {
   "cell_type": "code",
   "execution_count": 52,
   "id": "3840523c-f1da-4a4c-93ce-b2f7c872baf2",
   "metadata": {},
   "outputs": [],
   "source": [
    "\n",
    "def predict(text):\n",
    "    inputs = tokenizer(text, padding=True, truncation=True, max_length=512, return_tensors=\"pt\").to(\"cuda\")\n",
    "\n",
    "    # Get model output (logits)\n",
    "    outputs = model(**inputs)\n",
    "\n",
    "    probs = outputs['logits'].softmax(1)\n",
    "    pred_label_idx = probs.argmax()\n",
    "\n",
    "    # Now map the predicted class index to the actual class label\n",
    "\n",
    "    # Since pred_label_idx is a tensor containing a single value (the predicted class index),\n",
    "    # the .item() method is used to extract the value as a scalar\n",
    "\n",
    "    pred_label = model.config.id2label[pred_label_idx.item()]\n",
    "\n",
    "    return probs, pred_label_idx, pred_label\n",
    "\n"
   ]
  },
  {
   "cell_type": "code",
   "execution_count": 54,
   "id": "ca23fd94-a0a5-4a27-89e4-8dce76580a49",
   "metadata": {},
   "outputs": [
    {
     "data": {
      "text/plain": [
       "('DPBH_XLNet_Fine_Tuned_Model\\\\tokenizer_config.json',\n",
       " 'DPBH_XLNet_Fine_Tuned_Model\\\\special_tokens_map.json',\n",
       " 'DPBH_XLNet_Fine_Tuned_Model\\\\tokenizer.json')"
      ]
     },
     "execution_count": 54,
     "metadata": {},
     "output_type": "execute_result"
    }
   ],
   "source": [
    "model_path = \"DPBH_XLNet_Fine_Tuned_Model\"\n",
    "trainer.save_model(model_path)\n",
    "tokenizer.save_pretrained(model_path)"
   ]
  },
  {
   "cell_type": "code",
   "execution_count": 4,
   "id": "4ab9a4b2-1a25-46ab-96f9-663c1c4e348a",
   "metadata": {},
   "outputs": [],
   "source": [
    "# Reload the model\n",
    "\n",
    "model_path = \"DPBH_XLNet_Fine_Tuned_Model\"\n",
    "\n",
    "model = XLNetForSequenceClassification.from_pretrained(model_path)\n",
    "tokenizer = AutoTokenizer.from_pretrained(model_path)\n",
    "nlp = pipeline(\"sentiment-analysis\", model=model, tokenizer=tokenizer)"
   ]
  },
  {
   "cell_type": "code",
   "execution_count": 56,
   "id": "ef887002-573f-4238-b95d-a74ac24d0eea",
   "metadata": {},
   "outputs": [
    {
     "data": {
      "text/plain": [
       "[{'label': 'Social Proof', 'score': 0.9989678859710693}]"
      ]
     },
     "execution_count": 56,
     "metadata": {},
     "output_type": "execute_result"
    }
   ],
   "source": [
    "nlp(\"Haris just bought an underwear at just rs 99\")"
   ]
  },
  {
   "cell_type": "code",
   "execution_count": 58,
   "id": "e5015db8-573e-4917-90ad-3b9a732e0971",
   "metadata": {},
   "outputs": [
    {
     "data": {
      "text/plain": [
       "[{'label': 'Misdirection', 'score': 0.9988980293273926}]"
      ]
     },
     "execution_count": 58,
     "metadata": {},
     "output_type": "execute_result"
    }
   ],
   "source": [
    "nlp(\"i dont want any knowledge\")"
   ]
  },
  {
   "cell_type": "code",
   "execution_count": 5,
   "id": "afea24e1-5f9a-48da-881a-2d972fa72ed1",
   "metadata": {},
   "outputs": [
    {
     "data": {
      "text/plain": [
       "[{'label': 'Misdirection', 'score': 0.9887610077857971}]"
      ]
     },
     "execution_count": 5,
     "metadata": {},
     "output_type": "execute_result"
    }
   ],
   "source": [
    "nlp(\"I want to buy and eat some ice cream today.\")"
   ]
  },
  {
   "cell_type": "code",
   "execution_count": null,
   "id": "1402753f-30ca-415b-8707-5e23b22c1be9",
   "metadata": {},
   "outputs": [],
   "source": []
  }
 ],
 "metadata": {
  "kernelspec": {
   "display_name": "Python 3 (ipykernel)",
   "language": "python",
   "name": "python3"
  },
  "language_info": {
   "codemirror_mode": {
    "name": "ipython",
    "version": 3
   },
   "file_extension": ".py",
   "mimetype": "text/x-python",
   "name": "python",
   "nbconvert_exporter": "python",
   "pygments_lexer": "ipython3",
   "version": "3.11.5"
  }
 },
 "nbformat": 4,
 "nbformat_minor": 5
}
